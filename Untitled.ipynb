{
 "cells": [
  {
   "cell_type": "code",
   "execution_count": 1,
   "id": "a8cd81f2",
   "metadata": {},
   "outputs": [],
   "source": [
    "#importar librerias\n",
    "import pandas as pd\n",
    "from sklearn.tree import DecisionTreeClassifier\n",
    "from sklearn.model_selection import train_test_split\n",
    "from sklearn import metrics"
   ]
  },
  {
   "cell_type": "markdown",
   "id": "f02579ba",
   "metadata": {},
   "source": [
    "# Cargar el Dataset"
   ]
  },
  {
   "cell_type": "code",
   "execution_count": 11,
   "id": "c7ae4101",
   "metadata": {},
   "outputs": [
    {
     "data": {
      "text/plain": [
       "(150, 6)"
      ]
     },
     "execution_count": 11,
     "metadata": {},
     "output_type": "execute_result"
    }
   ],
   "source": [
    "df = pd.read_csv(\"iris.csv\")\n",
    "df.head()\n",
    "df.shape"
   ]
  },
  {
   "cell_type": "markdown",
   "id": "e42db721",
   "metadata": {},
   "source": [
    "# Verificacion y limpieza"
   ]
  },
  {
   "cell_type": "code",
   "execution_count": 3,
   "id": "ce1e2b1f",
   "metadata": {},
   "outputs": [],
   "source": [
    "feature_cols = ['Pregnancies','Insulin','BMI','Age','Glucose','BloodPressure','DiabetesPedigreeFunction']\n",
    "X = df[feature_cols] #caracteristicas\n",
    "y = df.Outcome\n",
    "#los numeros deben estar en escalas pequeñas\n",
    "#Porque no se transforma si tiene escalas grandes\n",
    "# manejan con escalas o jerarquias, por lo general los datos no son superditados a las escalas numericas\n",
    "#quiere decir q no va ser la diferencia."
   ]
  },
  {
   "cell_type": "markdown",
   "id": "ac72c2c2",
   "metadata": {},
   "source": [
    "# Ingenieria de caractersiticas"
   ]
  },
  {
   "cell_type": "code",
   "execution_count": 7,
   "id": "13d24e47",
   "metadata": {},
   "outputs": [],
   "source": [
    "#separar en variables de entrenamiento y test en proporcion 70:30\n",
    "X_train,X_test,y_train,y_test = train_test_split(X,y,test_size=0.3,random_state=3)"
   ]
  },
  {
   "cell_type": "code",
   "execution_count": 8,
   "id": "2021993b",
   "metadata": {},
   "outputs": [],
   "source": [
    "#crear el arbol de decision\n",
    "clf = DecisionTreeClassifier()\n",
    "# entrenar el clasificador\n",
    "clf = clf.fit(X_train,y_train)\n",
    "#predecir por el dataset\n",
    "y_pred = clf.predict(X_test)"
   ]
  },
  {
   "cell_type": "code",
   "execution_count": 9,
   "id": "d85c1bf6",
   "metadata": {},
   "outputs": [
    {
     "name": "stdout",
     "output_type": "stream",
     "text": [
      "Accuracy:  0.6623376623376623\n"
     ]
    }
   ],
   "source": [
    "#acurrancy\n",
    "print(\"Accuracy: \", metrics.accuracy_score(y_test,y_pred))"
   ]
  },
  {
   "cell_type": "markdown",
   "id": "35c78704",
   "metadata": {},
   "source": [
    "# Imprimir el arbol"
   ]
  },
  {
   "cell_type": "code",
   "execution_count": null,
   "id": "7eb9f9d6",
   "metadata": {},
   "outputs": [],
   "source": []
  },
  {
   "cell_type": "code",
   "execution_count": null,
   "id": "78ef8277",
   "metadata": {},
   "outputs": [],
   "source": []
  }
 ],
 "metadata": {
  "kernelspec": {
   "display_name": "Python 3 (ipykernel)",
   "language": "python",
   "name": "python3"
  },
  "language_info": {
   "codemirror_mode": {
    "name": "ipython",
    "version": 3
   },
   "file_extension": ".py",
   "mimetype": "text/x-python",
   "name": "python",
   "nbconvert_exporter": "python",
   "pygments_lexer": "ipython3",
   "version": "3.9.12"
  }
 },
 "nbformat": 4,
 "nbformat_minor": 5
}
